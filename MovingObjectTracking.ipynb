{
 "cells": [
  {
   "cell_type": "code",
   "execution_count": 2,
   "metadata": {},
   "outputs": [],
   "source": [
    "import cv2\n",
    "import numpy as np"
   ]
  },
  {
   "cell_type": "code",
   "execution_count": 21,
   "metadata": {},
   "outputs": [],
   "source": [
    "kernel = np.ones((3, 3), np.uint8)\n",
    "\n",
    "def Open(GrayImage, erode, dilate):\n",
    "    erode_img=cv2.erode(GrayImage, kernel, iterations = erode)\n",
    "    img_open=cv2.dilate(GrayImage, kernel, iterations = dilate)\n",
    "    return img_open\n",
    "\n",
    "def Close(GrayImage, erode, dilate):\n",
    "    dilate_img=cv2.dilate(GrayImage, kernel, iterations = dilate)\n",
    "    img_close=cv2.erode(GrayImage, kernel, iterations = erode)\n",
    "    return img_close"
   ]
  },
  {
   "cell_type": "code",
   "execution_count": 54,
   "metadata": {},
   "outputs": [],
   "source": [
    "cap = cv2.VideoCapture('./Good_horizon_2.mp4')    # Open the specified video file.\n",
    "\n",
    "fps = cap.get(cv2.CAP_PROP_FPS)\n",
    "frame_delay = int(1000 / fps)\n",
    "\n",
    "clahe = cv2.createCLAHE(clipLimit=2.0, tileGridSize=(8, 8))\n",
    "\n",
    "while(cap.isOpened()):\n",
    "    ret, frame = cap.read()    # ret -> return value.\n",
    "    if not ret:\n",
    "        print(\"Video is end.\")\n",
    "        break\n",
    "\n",
    "    frame = cv2.resize(frame, (0, 0), fx=0.5, fy=0.5)\n",
    "    \n",
    "\n",
    "    frame_gray = cv2.cvtColor(frame, cv2.COLOR_RGB2GRAY)\n",
    "    clahe_image = clahe.apply(frame_gray)\n",
    "    ret,frame_thre = cv2.threshold(clahe_image, 0, 255, cv2.THRESH_BINARY + cv2.THRESH_OTSU)\n",
    "    frame_thre_close=Close(frame_thre,5,3)\n",
    "    \n",
    "    frame_contours,_ = cv2.findContours(frame_thre_close, cv2.RETR_EXTERNAL, cv2.CHAIN_APPROX_NONE)\n",
    "\n",
    "    for contours in frame_contours:\n",
    "        area = cv2.contourArea(contours)\n",
    "        if 15*10000<area<20*10000:\n",
    "            cv2.drawContours(frame, contours, -1, (0, 255, 0), 4)\n",
    "\n",
    "    cv2.imshow('Frame', frame)\n",
    "\n",
    "    key = cv2.waitKey(frame_delay)\n",
    "    if key == 27: #Esc\n",
    "        break\n",
    "\n",
    "cap.release()\n",
    "cv2.destroyAllWindows()"
   ]
  },
  {
   "cell_type": "code",
   "execution_count": null,
   "metadata": {},
   "outputs": [],
   "source": []
  }
 ],
 "metadata": {
  "kernelspec": {
   "display_name": "Python 3",
   "language": "python",
   "name": "python3"
  },
  "language_info": {
   "codemirror_mode": {
    "name": "ipython",
    "version": 3
   },
   "file_extension": ".py",
   "mimetype": "text/x-python",
   "name": "python",
   "nbconvert_exporter": "python",
   "pygments_lexer": "ipython3",
   "version": "3.10.11"
  }
 },
 "nbformat": 4,
 "nbformat_minor": 2
}
